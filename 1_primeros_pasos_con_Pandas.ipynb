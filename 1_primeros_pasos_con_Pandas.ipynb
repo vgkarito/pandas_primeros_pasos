{
 "cells": [
  {
   "cell_type": "markdown",
   "id": "093d2f39-7148-4ba9-83ed-547426c89deb",
   "metadata": {},
   "source": [
    "# IV.1. Primeros pasos con Pandas\n",
    "\n",
    "En lecciones anteriores mencionamos que NumPy es un paquete esencial para ciencia de datos. No obstante, hay un paquete que utilizamos todavía más: Pandas.\n",
    "\n",
    "La ironía es que Pandas utiliza NumPy por detrás de las cortinas, entonces, al utilizas Pandas también estamos utilizando NumPy. Muchas operaciones de las que aprendimos a hacer con NumPy las podremos hacer con Pandas también.\n",
    "\n",
    "\n",
    "---\n",
    "\n",
    "# El objeto *core*\n",
    "\n",
    "Como vimos, el objeto *core* o principal de NumPy es el `ndarray`. Pandas tiene su propio (o propios) objetos principales: `Series` y `DataFrame`.\n",
    "\n",
    "## Definiciones formales\n",
    "\n",
    "`Series`: Es una estructura de datos unidimensional que puede contener datos de cualquier tipo (entero, flotante, cadena, etc.). Es similar a un arreglo unidimensional o a una columna en una tabla de base de datos. **Cada elemento en una Serie tiene un índice que lo identifica.**\n",
    "\n",
    "`DataFrame`: Es una estructura de datos bidimensional que se organiza en filas y columnas, similar a una tabla de una base de datos o una hoja de cálculo de Excel. Cada columna en un DataFrame es una Serie, y las filas y columnas están etiquetadas con índices que permiten acceder y manipular los datos de manera eficiente.\n",
    "\n",
    "\n",
    "\n",
    "> Una `Series` es esencialmente una columna, y un `DataFrame` es una tabla compuesta de una colección de `Series`.\n",
    "\n",
    " ![Objetos principales de Pandas](./img/pandas_1.png)\n",
    "\n",
    "# Importar paquete de Pandas\n",
    "\n",
    "Así como seguimos una convención para importar NumPy con el alias `np`, haremos algo similar con Pandas"
   ]
  },
  {
   "cell_type": "code",
   "execution_count": 1,
   "id": "66e0644e-a27c-4a9e-91f2-9212a1403db6",
   "metadata": {},
   "outputs": [],
   "source": [
    "import pandas as pd"
   ]
  },
  {
   "cell_type": "markdown",
   "id": "d0d358f4-1071-4d4d-95be-5a2d44d75260",
   "metadata": {},
   "source": [
    "# Creación de DataFrames\n",
    "\n",
    "Hay más de una forma de crear un DataFrame, pero una opción rápida y sencilla es utilizando un diccionario para alimentar los datos.\n",
    "\n",
    "> Esperamos que cada vez sea más evidente la importancia y necesidad de la clase de Análisis y Diseño de Algoritmos 😬\n",
    "\n",
    "![fruit](./img/fruit.gif)\n",
    "\n",
    "Supongamos que somos dueños de un puesto de frutas. Queremos tener una columna para cada fruta y una fila para cada venta que le hacemos a un cliente."
   ]
  },
  {
   "cell_type": "code",
   "execution_count": 2,
   "id": "168976e8-c7f7-47cf-856b-6d5023a1efc3",
   "metadata": {},
   "outputs": [],
   "source": [
    "data = {\n",
    "    'manzanas' : [3,2,0,1],\n",
    "    'naranjas' : [0,3,1,2],\n",
    "    'kiwis' :    [1,1,5,2]\n",
    "}"
   ]
  },
  {
   "cell_type": "markdown",
   "id": "d23a1ff0-20a5-405c-8659-00fc7ca48afb",
   "metadata": {},
   "source": [
    "Este diccionario lo vamos a usar para crear nuestro DataFrame. El método que crea el `DataFrame` a partir de un diccionario sabe que deberá tomar las **llaves** del diccionario como **columnas** y las **listas de valores** como las **filas**."
   ]
  },
  {
   "cell_type": "code",
   "execution_count": 3,
   "id": "0631bf08-3026-4c89-9306-e6a2c5c25fb2",
   "metadata": {},
   "outputs": [
    {
     "data": {
      "text/html": [
       "<div>\n",
       "<style scoped>\n",
       "    .dataframe tbody tr th:only-of-type {\n",
       "        vertical-align: middle;\n",
       "    }\n",
       "\n",
       "    .dataframe tbody tr th {\n",
       "        vertical-align: top;\n",
       "    }\n",
       "\n",
       "    .dataframe thead th {\n",
       "        text-align: right;\n",
       "    }\n",
       "</style>\n",
       "<table border=\"1\" class=\"dataframe\">\n",
       "  <thead>\n",
       "    <tr style=\"text-align: right;\">\n",
       "      <th></th>\n",
       "      <th>manzanas</th>\n",
       "      <th>naranjas</th>\n",
       "      <th>kiwis</th>\n",
       "    </tr>\n",
       "  </thead>\n",
       "  <tbody>\n",
       "    <tr>\n",
       "      <th>0</th>\n",
       "      <td>3</td>\n",
       "      <td>0</td>\n",
       "      <td>1</td>\n",
       "    </tr>\n",
       "    <tr>\n",
       "      <th>1</th>\n",
       "      <td>2</td>\n",
       "      <td>3</td>\n",
       "      <td>1</td>\n",
       "    </tr>\n",
       "    <tr>\n",
       "      <th>2</th>\n",
       "      <td>0</td>\n",
       "      <td>1</td>\n",
       "      <td>5</td>\n",
       "    </tr>\n",
       "    <tr>\n",
       "      <th>3</th>\n",
       "      <td>1</td>\n",
       "      <td>2</td>\n",
       "      <td>2</td>\n",
       "    </tr>\n",
       "  </tbody>\n",
       "</table>\n",
       "</div>"
      ],
      "text/plain": [
       "   manzanas  naranjas  kiwis\n",
       "0         3         0      1\n",
       "1         2         3      1\n",
       "2         0         1      5\n",
       "3         1         2      2"
      ]
     },
     "execution_count": 3,
     "metadata": {},
     "output_type": "execute_result"
    }
   ],
   "source": [
    "df = pd.DataFrame(data)\n",
    "df"
   ]
  },
  {
   "cell_type": "code",
   "execution_count": 4,
   "id": "0527ff5d-64d4-401a-98ad-7b55aa41330d",
   "metadata": {},
   "outputs": [
    {
     "data": {
      "text/plain": [
       "0    3\n",
       "1    2\n",
       "2    0\n",
       "3    1\n",
       "Name: manzanas, dtype: int64"
      ]
     },
     "execution_count": 4,
     "metadata": {},
     "output_type": "execute_result"
    }
   ],
   "source": [
    "manzanas = df['manzanas']\n",
    "manzanas"
   ]
  },
  {
   "cell_type": "markdown",
   "id": "a0bafb0c-c452-45f6-b42f-baca0977fe4a",
   "metadata": {},
   "source": [
    "También podemos acceder a una serie con la notación `dataframe.series`"
   ]
  },
  {
   "cell_type": "code",
   "execution_count": 5,
   "id": "e2fe8b27-e590-40e0-bf6d-2fbebc062db5",
   "metadata": {},
   "outputs": [
    {
     "data": {
      "text/plain": [
       "0    0\n",
       "1    3\n",
       "2    1\n",
       "3    2\n",
       "Name: naranjas, dtype: int64"
      ]
     },
     "execution_count": 5,
     "metadata": {},
     "output_type": "execute_result"
    }
   ],
   "source": [
    "df.naranjas"
   ]
  },
  {
   "cell_type": "markdown",
   "id": "cc4bd05a-e825-4d03-a0b7-d40b077f80f0",
   "metadata": {},
   "source": [
    "Podemos convertir series a listas:"
   ]
  },
  {
   "cell_type": "code",
   "execution_count": 6,
   "id": "2902b2dc-0dab-42a1-a0b3-e53943d64a92",
   "metadata": {},
   "outputs": [
    {
     "data": {
      "text/plain": [
       "[0, 3, 1, 2]"
      ]
     },
     "execution_count": 6,
     "metadata": {},
     "output_type": "execute_result"
    }
   ],
   "source": [
    "list(df.naranjas)"
   ]
  },
  {
   "cell_type": "markdown",
   "id": "ce467417-a2b3-486d-9ac7-05881e5933df",
   "metadata": {},
   "source": [
    "---\n",
    "\n",
    "# Análisis exploratorio de datos\n",
    "\n",
    " ![eda](./img/eda.gif)\n",
    "\n",
    "\n",
    "Una de las tareas más comunes de ciencia de datos es el análisis exploratorio de datos, es aquí donde utilizamos herramientas como Pandas para investigar y comprender mejor nuestros datos, identificando patrones, tendencias, y relaciones, así como detectando valores atípicos y datos faltantes.\n",
    "\n",
    "## Lectura de datos\n",
    "\n",
    "Sin duda, la manera que más común de crear DataFrames en Pandas es leyendo una base de datos de un archivo externo.\n",
    "\n",
    "En última lección de NumPy aprendimos a leer un archivo CSV a un ndarray, sin embargo, notamos algunas limitantes muy evidentes como el manejo de tipos de datos.\n",
    "\n",
    "\n",
    "> Las series de Pandas son mucho más flexibles en este sentido\n",
    "\n",
    "\n",
    "Pandas está hecho para trabajar con datos tabulares, o sea, datos que vengan en una estructura de filas y columnas. Y, por excelencia, el tipo de archivo que cuenta con esta estructura es el CSV.\n",
    "\n",
    "## Nuestros datos\n",
    "\n",
    "Descarguemos una base de datos de películas de IMDb de Kaggle. [Ésta es la liga](https://www.kaggle.com/PromptCloudHQ/imdb-data) a la base de datos. Kaggle es una excelente herramienta para encontrar bases de datos interesantes y aprender sobre ciencia de datos, inteligencia artificial, machine learning, etc.\n",
    "\n",
    "Los datos ya están en la carpeta `data/` de este repositorio.\n",
    "\n",
    "### Descripción de la base de datos\n",
    "\n",
    "La base de datos contiene las mil películas más populares en IMDb. Las columnas de la base son:\n",
    "\n",
    "* Title\n",
    "* Genre\n",
    "* Description\n",
    "* Director\n",
    "* Actors\n",
    "* Year\n",
    "* Runtime\n",
    "* Rating\n",
    "* Votes\n",
    "* Revenue\n",
    "* Metascrore\n",
    "\n",
    "\n",
    "> Pero mejor veamos todos los detalles usando Pandas\n",
    "\n",
    "## `read_csv`\n",
    "\n",
    "Comencemos leyendo la base de datos con `read_csv()`"
   ]
  },
  {
   "cell_type": "code",
   "execution_count": 7,
   "id": "6873c885-214a-4764-ad10-78ec8c21c24c",
   "metadata": {},
   "outputs": [],
   "source": [
    "df = pd.read_csv('data/imdb.csv')"
   ]
  },
  {
   "cell_type": "markdown",
   "id": "f9e34a26-6f52-4e8c-9f41-7f5885ede52c",
   "metadata": {},
   "source": [
    "> Se utiliza el nombre de variable `df` para abreviar “DataFrame”. Es muy común que nombremos así a la variable que contiene nuestro conjunto de datos (DataFrame) en nuestros proyectos. Pero esto es completamente opcional.\n",
    "\n",
    "\n",
    "Leimos el archivo sin ningún problema. Ahora lo primero que nos gustaría hacer es ver las primeras filas de nuestra tabla. Pandas nos permite inspeccionar las primeras 5 filas utlizando el método `head()`."
   ]
  },
  {
   "cell_type": "code",
   "execution_count": 8,
   "id": "4829540f-64f1-4eeb-b9a0-cbfeea3fdf3c",
   "metadata": {},
   "outputs": [
    {
     "data": {
      "text/html": [
       "<div>\n",
       "<style scoped>\n",
       "    .dataframe tbody tr th:only-of-type {\n",
       "        vertical-align: middle;\n",
       "    }\n",
       "\n",
       "    .dataframe tbody tr th {\n",
       "        vertical-align: top;\n",
       "    }\n",
       "\n",
       "    .dataframe thead th {\n",
       "        text-align: right;\n",
       "    }\n",
       "</style>\n",
       "<table border=\"1\" class=\"dataframe\">\n",
       "  <thead>\n",
       "    <tr style=\"text-align: right;\">\n",
       "      <th></th>\n",
       "      <th>Rank</th>\n",
       "      <th>Title</th>\n",
       "      <th>Genre</th>\n",
       "      <th>Description</th>\n",
       "      <th>Director</th>\n",
       "      <th>Actors</th>\n",
       "      <th>Year</th>\n",
       "      <th>Runtime (Minutes)</th>\n",
       "      <th>Rating</th>\n",
       "      <th>Votes</th>\n",
       "      <th>Revenue (Millions)</th>\n",
       "      <th>Metascore</th>\n",
       "    </tr>\n",
       "  </thead>\n",
       "  <tbody>\n",
       "    <tr>\n",
       "      <th>0</th>\n",
       "      <td>1</td>\n",
       "      <td>Guardians of the Galaxy</td>\n",
       "      <td>Action,Adventure,Sci-Fi</td>\n",
       "      <td>A group of intergalactic criminals are forced ...</td>\n",
       "      <td>James Gunn</td>\n",
       "      <td>Chris Pratt, Vin Diesel, Bradley Cooper, Zoe S...</td>\n",
       "      <td>2014</td>\n",
       "      <td>121</td>\n",
       "      <td>8.1</td>\n",
       "      <td>757074</td>\n",
       "      <td>333.13</td>\n",
       "      <td>76.0</td>\n",
       "    </tr>\n",
       "    <tr>\n",
       "      <th>1</th>\n",
       "      <td>2</td>\n",
       "      <td>Prometheus</td>\n",
       "      <td>Adventure,Mystery,Sci-Fi</td>\n",
       "      <td>Following clues to the origin of mankind, a te...</td>\n",
       "      <td>Ridley Scott</td>\n",
       "      <td>Noomi Rapace, Logan Marshall-Green, Michael Fa...</td>\n",
       "      <td>2012</td>\n",
       "      <td>124</td>\n",
       "      <td>7.0</td>\n",
       "      <td>485820</td>\n",
       "      <td>126.46</td>\n",
       "      <td>65.0</td>\n",
       "    </tr>\n",
       "    <tr>\n",
       "      <th>2</th>\n",
       "      <td>3</td>\n",
       "      <td>Split</td>\n",
       "      <td>Horror,Thriller</td>\n",
       "      <td>Three girls are kidnapped by a man with a diag...</td>\n",
       "      <td>M. Night Shyamalan</td>\n",
       "      <td>James McAvoy, Anya Taylor-Joy, Haley Lu Richar...</td>\n",
       "      <td>2016</td>\n",
       "      <td>117</td>\n",
       "      <td>7.3</td>\n",
       "      <td>157606</td>\n",
       "      <td>138.12</td>\n",
       "      <td>62.0</td>\n",
       "    </tr>\n",
       "    <tr>\n",
       "      <th>3</th>\n",
       "      <td>4</td>\n",
       "      <td>Sing</td>\n",
       "      <td>Animation,Comedy,Family</td>\n",
       "      <td>In a city of humanoid animals, a hustling thea...</td>\n",
       "      <td>Christophe Lourdelet</td>\n",
       "      <td>Matthew McConaughey,Reese Witherspoon, Seth Ma...</td>\n",
       "      <td>2016</td>\n",
       "      <td>108</td>\n",
       "      <td>7.2</td>\n",
       "      <td>60545</td>\n",
       "      <td>270.32</td>\n",
       "      <td>59.0</td>\n",
       "    </tr>\n",
       "    <tr>\n",
       "      <th>4</th>\n",
       "      <td>5</td>\n",
       "      <td>Suicide Squad</td>\n",
       "      <td>Action,Adventure,Fantasy</td>\n",
       "      <td>A secret government agency recruits some of th...</td>\n",
       "      <td>David Ayer</td>\n",
       "      <td>Will Smith, Jared Leto, Margot Robbie, Viola D...</td>\n",
       "      <td>2016</td>\n",
       "      <td>123</td>\n",
       "      <td>6.2</td>\n",
       "      <td>393727</td>\n",
       "      <td>325.02</td>\n",
       "      <td>40.0</td>\n",
       "    </tr>\n",
       "  </tbody>\n",
       "</table>\n",
       "</div>"
      ],
      "text/plain": [
       "   Rank                    Title                     Genre  \\\n",
       "0     1  Guardians of the Galaxy   Action,Adventure,Sci-Fi   \n",
       "1     2               Prometheus  Adventure,Mystery,Sci-Fi   \n",
       "2     3                    Split           Horror,Thriller   \n",
       "3     4                     Sing   Animation,Comedy,Family   \n",
       "4     5            Suicide Squad  Action,Adventure,Fantasy   \n",
       "\n",
       "                                         Description              Director  \\\n",
       "0  A group of intergalactic criminals are forced ...            James Gunn   \n",
       "1  Following clues to the origin of mankind, a te...          Ridley Scott   \n",
       "2  Three girls are kidnapped by a man with a diag...    M. Night Shyamalan   \n",
       "3  In a city of humanoid animals, a hustling thea...  Christophe Lourdelet   \n",
       "4  A secret government agency recruits some of th...            David Ayer   \n",
       "\n",
       "                                              Actors  Year  Runtime (Minutes)  \\\n",
       "0  Chris Pratt, Vin Diesel, Bradley Cooper, Zoe S...  2014                121   \n",
       "1  Noomi Rapace, Logan Marshall-Green, Michael Fa...  2012                124   \n",
       "2  James McAvoy, Anya Taylor-Joy, Haley Lu Richar...  2016                117   \n",
       "3  Matthew McConaughey,Reese Witherspoon, Seth Ma...  2016                108   \n",
       "4  Will Smith, Jared Leto, Margot Robbie, Viola D...  2016                123   \n",
       "\n",
       "   Rating   Votes  Revenue (Millions)  Metascore  \n",
       "0     8.1  757074              333.13       76.0  \n",
       "1     7.0  485820              126.46       65.0  \n",
       "2     7.3  157606              138.12       62.0  \n",
       "3     7.2   60545              270.32       59.0  \n",
       "4     6.2  393727              325.02       40.0  "
      ]
     },
     "execution_count": 8,
     "metadata": {},
     "output_type": "execute_result"
    }
   ],
   "source": [
    "df.head()"
   ]
  },
  {
   "cell_type": "markdown",
   "id": "c0015f29-3614-4139-9602-b2de5d219fb4",
   "metadata": {},
   "source": [
    "Si quisieramos ver más filas, podemos pasar un número entero al método `head()` y nos mostrará el número de filas que especifiquemos. "
   ]
  },
  {
   "cell_type": "code",
   "execution_count": 9,
   "id": "f4d0eb80-3d3f-4cbb-9e9d-32f9a7b32236",
   "metadata": {},
   "outputs": [
    {
     "data": {
      "text/html": [
       "<div>\n",
       "<style scoped>\n",
       "    .dataframe tbody tr th:only-of-type {\n",
       "        vertical-align: middle;\n",
       "    }\n",
       "\n",
       "    .dataframe tbody tr th {\n",
       "        vertical-align: top;\n",
       "    }\n",
       "\n",
       "    .dataframe thead th {\n",
       "        text-align: right;\n",
       "    }\n",
       "</style>\n",
       "<table border=\"1\" class=\"dataframe\">\n",
       "  <thead>\n",
       "    <tr style=\"text-align: right;\">\n",
       "      <th></th>\n",
       "      <th>Rank</th>\n",
       "      <th>Title</th>\n",
       "      <th>Genre</th>\n",
       "      <th>Description</th>\n",
       "      <th>Director</th>\n",
       "      <th>Actors</th>\n",
       "      <th>Year</th>\n",
       "      <th>Runtime (Minutes)</th>\n",
       "      <th>Rating</th>\n",
       "      <th>Votes</th>\n",
       "      <th>Revenue (Millions)</th>\n",
       "      <th>Metascore</th>\n",
       "    </tr>\n",
       "  </thead>\n",
       "  <tbody>\n",
       "    <tr>\n",
       "      <th>0</th>\n",
       "      <td>1</td>\n",
       "      <td>Guardians of the Galaxy</td>\n",
       "      <td>Action,Adventure,Sci-Fi</td>\n",
       "      <td>A group of intergalactic criminals are forced ...</td>\n",
       "      <td>James Gunn</td>\n",
       "      <td>Chris Pratt, Vin Diesel, Bradley Cooper, Zoe S...</td>\n",
       "      <td>2014</td>\n",
       "      <td>121</td>\n",
       "      <td>8.1</td>\n",
       "      <td>757074</td>\n",
       "      <td>333.13</td>\n",
       "      <td>76.0</td>\n",
       "    </tr>\n",
       "    <tr>\n",
       "      <th>1</th>\n",
       "      <td>2</td>\n",
       "      <td>Prometheus</td>\n",
       "      <td>Adventure,Mystery,Sci-Fi</td>\n",
       "      <td>Following clues to the origin of mankind, a te...</td>\n",
       "      <td>Ridley Scott</td>\n",
       "      <td>Noomi Rapace, Logan Marshall-Green, Michael Fa...</td>\n",
       "      <td>2012</td>\n",
       "      <td>124</td>\n",
       "      <td>7.0</td>\n",
       "      <td>485820</td>\n",
       "      <td>126.46</td>\n",
       "      <td>65.0</td>\n",
       "    </tr>\n",
       "    <tr>\n",
       "      <th>2</th>\n",
       "      <td>3</td>\n",
       "      <td>Split</td>\n",
       "      <td>Horror,Thriller</td>\n",
       "      <td>Three girls are kidnapped by a man with a diag...</td>\n",
       "      <td>M. Night Shyamalan</td>\n",
       "      <td>James McAvoy, Anya Taylor-Joy, Haley Lu Richar...</td>\n",
       "      <td>2016</td>\n",
       "      <td>117</td>\n",
       "      <td>7.3</td>\n",
       "      <td>157606</td>\n",
       "      <td>138.12</td>\n",
       "      <td>62.0</td>\n",
       "    </tr>\n",
       "    <tr>\n",
       "      <th>3</th>\n",
       "      <td>4</td>\n",
       "      <td>Sing</td>\n",
       "      <td>Animation,Comedy,Family</td>\n",
       "      <td>In a city of humanoid animals, a hustling thea...</td>\n",
       "      <td>Christophe Lourdelet</td>\n",
       "      <td>Matthew McConaughey,Reese Witherspoon, Seth Ma...</td>\n",
       "      <td>2016</td>\n",
       "      <td>108</td>\n",
       "      <td>7.2</td>\n",
       "      <td>60545</td>\n",
       "      <td>270.32</td>\n",
       "      <td>59.0</td>\n",
       "    </tr>\n",
       "    <tr>\n",
       "      <th>4</th>\n",
       "      <td>5</td>\n",
       "      <td>Suicide Squad</td>\n",
       "      <td>Action,Adventure,Fantasy</td>\n",
       "      <td>A secret government agency recruits some of th...</td>\n",
       "      <td>David Ayer</td>\n",
       "      <td>Will Smith, Jared Leto, Margot Robbie, Viola D...</td>\n",
       "      <td>2016</td>\n",
       "      <td>123</td>\n",
       "      <td>6.2</td>\n",
       "      <td>393727</td>\n",
       "      <td>325.02</td>\n",
       "      <td>40.0</td>\n",
       "    </tr>\n",
       "    <tr>\n",
       "      <th>5</th>\n",
       "      <td>6</td>\n",
       "      <td>The Great Wall</td>\n",
       "      <td>Action,Adventure,Fantasy</td>\n",
       "      <td>European mercenaries searching for black powde...</td>\n",
       "      <td>Yimou Zhang</td>\n",
       "      <td>Matt Damon, Tian Jing, Willem Dafoe, Andy Lau</td>\n",
       "      <td>2016</td>\n",
       "      <td>103</td>\n",
       "      <td>6.1</td>\n",
       "      <td>56036</td>\n",
       "      <td>45.13</td>\n",
       "      <td>42.0</td>\n",
       "    </tr>\n",
       "    <tr>\n",
       "      <th>6</th>\n",
       "      <td>7</td>\n",
       "      <td>La La Land</td>\n",
       "      <td>Comedy,Drama,Music</td>\n",
       "      <td>A jazz pianist falls for an aspiring actress i...</td>\n",
       "      <td>Damien Chazelle</td>\n",
       "      <td>Ryan Gosling, Emma Stone, Rosemarie DeWitt, J....</td>\n",
       "      <td>2016</td>\n",
       "      <td>128</td>\n",
       "      <td>8.3</td>\n",
       "      <td>258682</td>\n",
       "      <td>151.06</td>\n",
       "      <td>93.0</td>\n",
       "    </tr>\n",
       "    <tr>\n",
       "      <th>7</th>\n",
       "      <td>8</td>\n",
       "      <td>Mindhorn</td>\n",
       "      <td>Comedy</td>\n",
       "      <td>A has-been actor best known for playing the ti...</td>\n",
       "      <td>Sean Foley</td>\n",
       "      <td>Essie Davis, Andrea Riseborough, Julian Barrat...</td>\n",
       "      <td>2016</td>\n",
       "      <td>89</td>\n",
       "      <td>6.4</td>\n",
       "      <td>2490</td>\n",
       "      <td>NaN</td>\n",
       "      <td>71.0</td>\n",
       "    </tr>\n",
       "    <tr>\n",
       "      <th>8</th>\n",
       "      <td>9</td>\n",
       "      <td>The Lost City of Z</td>\n",
       "      <td>Action,Adventure,Biography</td>\n",
       "      <td>A true-life drama, centering on British explor...</td>\n",
       "      <td>James Gray</td>\n",
       "      <td>Charlie Hunnam, Robert Pattinson, Sienna Mille...</td>\n",
       "      <td>2016</td>\n",
       "      <td>141</td>\n",
       "      <td>7.1</td>\n",
       "      <td>7188</td>\n",
       "      <td>8.01</td>\n",
       "      <td>78.0</td>\n",
       "    </tr>\n",
       "    <tr>\n",
       "      <th>9</th>\n",
       "      <td>10</td>\n",
       "      <td>Passengers</td>\n",
       "      <td>Adventure,Drama,Romance</td>\n",
       "      <td>A spacecraft traveling to a distant colony pla...</td>\n",
       "      <td>Morten Tyldum</td>\n",
       "      <td>Jennifer Lawrence, Chris Pratt, Michael Sheen,...</td>\n",
       "      <td>2016</td>\n",
       "      <td>116</td>\n",
       "      <td>7.0</td>\n",
       "      <td>192177</td>\n",
       "      <td>100.01</td>\n",
       "      <td>41.0</td>\n",
       "    </tr>\n",
       "  </tbody>\n",
       "</table>\n",
       "</div>"
      ],
      "text/plain": [
       "   Rank                    Title                       Genre  \\\n",
       "0     1  Guardians of the Galaxy     Action,Adventure,Sci-Fi   \n",
       "1     2               Prometheus    Adventure,Mystery,Sci-Fi   \n",
       "2     3                    Split             Horror,Thriller   \n",
       "3     4                     Sing     Animation,Comedy,Family   \n",
       "4     5            Suicide Squad    Action,Adventure,Fantasy   \n",
       "5     6           The Great Wall    Action,Adventure,Fantasy   \n",
       "6     7               La La Land          Comedy,Drama,Music   \n",
       "7     8                 Mindhorn                      Comedy   \n",
       "8     9       The Lost City of Z  Action,Adventure,Biography   \n",
       "9    10               Passengers     Adventure,Drama,Romance   \n",
       "\n",
       "                                         Description              Director  \\\n",
       "0  A group of intergalactic criminals are forced ...            James Gunn   \n",
       "1  Following clues to the origin of mankind, a te...          Ridley Scott   \n",
       "2  Three girls are kidnapped by a man with a diag...    M. Night Shyamalan   \n",
       "3  In a city of humanoid animals, a hustling thea...  Christophe Lourdelet   \n",
       "4  A secret government agency recruits some of th...            David Ayer   \n",
       "5  European mercenaries searching for black powde...           Yimou Zhang   \n",
       "6  A jazz pianist falls for an aspiring actress i...       Damien Chazelle   \n",
       "7  A has-been actor best known for playing the ti...            Sean Foley   \n",
       "8  A true-life drama, centering on British explor...            James Gray   \n",
       "9  A spacecraft traveling to a distant colony pla...         Morten Tyldum   \n",
       "\n",
       "                                              Actors  Year  Runtime (Minutes)  \\\n",
       "0  Chris Pratt, Vin Diesel, Bradley Cooper, Zoe S...  2014                121   \n",
       "1  Noomi Rapace, Logan Marshall-Green, Michael Fa...  2012                124   \n",
       "2  James McAvoy, Anya Taylor-Joy, Haley Lu Richar...  2016                117   \n",
       "3  Matthew McConaughey,Reese Witherspoon, Seth Ma...  2016                108   \n",
       "4  Will Smith, Jared Leto, Margot Robbie, Viola D...  2016                123   \n",
       "5      Matt Damon, Tian Jing, Willem Dafoe, Andy Lau  2016                103   \n",
       "6  Ryan Gosling, Emma Stone, Rosemarie DeWitt, J....  2016                128   \n",
       "7  Essie Davis, Andrea Riseborough, Julian Barrat...  2016                 89   \n",
       "8  Charlie Hunnam, Robert Pattinson, Sienna Mille...  2016                141   \n",
       "9  Jennifer Lawrence, Chris Pratt, Michael Sheen,...  2016                116   \n",
       "\n",
       "   Rating   Votes  Revenue (Millions)  Metascore  \n",
       "0     8.1  757074              333.13       76.0  \n",
       "1     7.0  485820              126.46       65.0  \n",
       "2     7.3  157606              138.12       62.0  \n",
       "3     7.2   60545              270.32       59.0  \n",
       "4     6.2  393727              325.02       40.0  \n",
       "5     6.1   56036               45.13       42.0  \n",
       "6     8.3  258682              151.06       93.0  \n",
       "7     6.4    2490                 NaN       71.0  \n",
       "8     7.1    7188                8.01       78.0  \n",
       "9     7.0  192177              100.01       41.0  "
      ]
     },
     "execution_count": 9,
     "metadata": {},
     "output_type": "execute_result"
    }
   ],
   "source": [
    "df.head(10)"
   ]
  },
  {
   "cell_type": "markdown",
   "id": "dc977a0e-d6f4-4ad0-9c9e-63336ecc0b65",
   "metadata": {},
   "source": [
    "O bien, podemos ver los **últimos** registros del DataFrame usando el método `tail`"
   ]
  },
  {
   "cell_type": "code",
   "execution_count": 10,
   "id": "4ba265ea-09a0-4d4f-b641-248ca0d61515",
   "metadata": {},
   "outputs": [
    {
     "data": {
      "text/html": [
       "<div>\n",
       "<style scoped>\n",
       "    .dataframe tbody tr th:only-of-type {\n",
       "        vertical-align: middle;\n",
       "    }\n",
       "\n",
       "    .dataframe tbody tr th {\n",
       "        vertical-align: top;\n",
       "    }\n",
       "\n",
       "    .dataframe thead th {\n",
       "        text-align: right;\n",
       "    }\n",
       "</style>\n",
       "<table border=\"1\" class=\"dataframe\">\n",
       "  <thead>\n",
       "    <tr style=\"text-align: right;\">\n",
       "      <th></th>\n",
       "      <th>Rank</th>\n",
       "      <th>Title</th>\n",
       "      <th>Genre</th>\n",
       "      <th>Description</th>\n",
       "      <th>Director</th>\n",
       "      <th>Actors</th>\n",
       "      <th>Year</th>\n",
       "      <th>Runtime (Minutes)</th>\n",
       "      <th>Rating</th>\n",
       "      <th>Votes</th>\n",
       "      <th>Revenue (Millions)</th>\n",
       "      <th>Metascore</th>\n",
       "    </tr>\n",
       "  </thead>\n",
       "  <tbody>\n",
       "    <tr>\n",
       "      <th>998</th>\n",
       "      <td>999</td>\n",
       "      <td>Search Party</td>\n",
       "      <td>Adventure,Comedy</td>\n",
       "      <td>A pair of friends embark on a mission to reuni...</td>\n",
       "      <td>Scot Armstrong</td>\n",
       "      <td>Adam Pally, T.J. Miller, Thomas Middleditch,Sh...</td>\n",
       "      <td>2014</td>\n",
       "      <td>93</td>\n",
       "      <td>5.6</td>\n",
       "      <td>4881</td>\n",
       "      <td>NaN</td>\n",
       "      <td>22.0</td>\n",
       "    </tr>\n",
       "    <tr>\n",
       "      <th>999</th>\n",
       "      <td>1000</td>\n",
       "      <td>Nine Lives</td>\n",
       "      <td>Comedy,Family,Fantasy</td>\n",
       "      <td>A stuffy businessman finds himself trapped ins...</td>\n",
       "      <td>Barry Sonnenfeld</td>\n",
       "      <td>Kevin Spacey, Jennifer Garner, Robbie Amell,Ch...</td>\n",
       "      <td>2016</td>\n",
       "      <td>87</td>\n",
       "      <td>5.3</td>\n",
       "      <td>12435</td>\n",
       "      <td>19.64</td>\n",
       "      <td>11.0</td>\n",
       "    </tr>\n",
       "  </tbody>\n",
       "</table>\n",
       "</div>"
      ],
      "text/plain": [
       "     Rank         Title                  Genre  \\\n",
       "998   999  Search Party       Adventure,Comedy   \n",
       "999  1000    Nine Lives  Comedy,Family,Fantasy   \n",
       "\n",
       "                                           Description          Director  \\\n",
       "998  A pair of friends embark on a mission to reuni...    Scot Armstrong   \n",
       "999  A stuffy businessman finds himself trapped ins...  Barry Sonnenfeld   \n",
       "\n",
       "                                                Actors  Year  \\\n",
       "998  Adam Pally, T.J. Miller, Thomas Middleditch,Sh...  2014   \n",
       "999  Kevin Spacey, Jennifer Garner, Robbie Amell,Ch...  2016   \n",
       "\n",
       "     Runtime (Minutes)  Rating  Votes  Revenue (Millions)  Metascore  \n",
       "998                 93     5.6   4881                 NaN       22.0  \n",
       "999                 87     5.3  12435               19.64       11.0  "
      ]
     },
     "execution_count": 10,
     "metadata": {},
     "output_type": "execute_result"
    }
   ],
   "source": [
    "df.tail(2)"
   ]
  },
  {
   "cell_type": "markdown",
   "id": "4cbafee5-49f2-4124-b859-3d310d260a79",
   "metadata": {},
   "source": [
    "## Columnas\n",
    "\n",
    "Podemos explorar las columnas de nuestro DataFrame muy fácilmente:"
   ]
  },
  {
   "cell_type": "code",
   "execution_count": 11,
   "id": "5fbd67af-f2da-46f7-87ea-43e8b7239dcd",
   "metadata": {},
   "outputs": [
    {
     "data": {
      "text/plain": [
       "Index(['Rank', 'Title', 'Genre', 'Description', 'Director', 'Actors', 'Year',\n",
       "       'Runtime (Minutes)', 'Rating', 'Votes', 'Revenue (Millions)',\n",
       "       'Metascore'],\n",
       "      dtype='object')"
      ]
     },
     "execution_count": 11,
     "metadata": {},
     "output_type": "execute_result"
    }
   ],
   "source": [
    "df.columns"
   ]
  },
  {
   "cell_type": "markdown",
   "id": "6edeaebe-ce29-4e6a-bb0c-b90f11ff173f",
   "metadata": {},
   "source": [
    "De igual manera, podemos inspeccionar columna por columna con los métodos `head` o `tail`."
   ]
  },
  {
   "cell_type": "code",
   "execution_count": 12,
   "id": "3f3ee9a2-4d31-4446-97b0-fb0bebd7c8c7",
   "metadata": {},
   "outputs": [
    {
     "data": {
      "text/plain": [
       "0    1\n",
       "1    2\n",
       "2    3\n",
       "3    4\n",
       "4    5\n",
       "Name: Rank, dtype: int64"
      ]
     },
     "execution_count": 12,
     "metadata": {},
     "output_type": "execute_result"
    }
   ],
   "source": [
    "df[\"Rank\"].head()"
   ]
  },
  {
   "cell_type": "markdown",
   "id": "99111efb-3809-4336-94d6-e7b251c70c43",
   "metadata": {},
   "source": [
    "> ¡Atención!\n",
    "\n",
    "**Es más fácil trabajar con nombres de columnas que no tengan espacios, por lo siguiente:**\n",
    "\n",
    "Podemos acceder a los elementos de una columna específica a través de su nombre "
   ]
  },
  {
   "cell_type": "code",
   "execution_count": 13,
   "id": "dd912e84-bdda-4676-a1b5-9382c8fbd3f4",
   "metadata": {},
   "outputs": [
    {
     "data": {
      "text/plain": [
       "0    1\n",
       "1    2\n",
       "2    3\n",
       "3    4\n",
       "4    5\n",
       "Name: Rank, dtype: int64"
      ]
     },
     "execution_count": 13,
     "metadata": {},
     "output_type": "execute_result"
    }
   ],
   "source": [
    "df.Rank.head()"
   ]
  },
  {
   "cell_type": "markdown",
   "id": "4d15d86d-a561-4cc8-aaf5-619a294050f9",
   "metadata": {},
   "source": [
    "Cuando el nombre de la columna con la que deseamos trabajar **no tiene espacio**, podemos usar la notación \n",
    "\n",
    "~~~\n",
    "dataframe.columna\n",
    "~~~\n",
    "\n",
    "\n",
    "Pero si tiene espacio, tenemos que poner los valores entre comillas y corchetes. Intentemos hacerlo con la columna llamada `\"Revenue (Millions)\"`"
   ]
  },
  {
   "cell_type": "code",
   "execution_count": 14,
   "id": "7b8bfa6c-80f0-4319-a7e5-eb6564d401d1",
   "metadata": {},
   "outputs": [
    {
     "ename": "AttributeError",
     "evalue": "'DataFrame' object has no attribute 'Revenue'",
     "output_type": "error",
     "traceback": [
      "\u001b[0;31m---------------------------------------------------------------------------\u001b[0m",
      "\u001b[0;31mAttributeError\u001b[0m                            Traceback (most recent call last)",
      "\u001b[0;32m/var/folders/t3/46cbp43j6nv2fbg6l0_hstd40000gn/T/ipykernel_19585/198548710.py\u001b[0m in \u001b[0;36m?\u001b[0;34m()\u001b[0m\n\u001b[0;32m----> 1\u001b[0;31m \u001b[0mdf\u001b[0m\u001b[0;34m.\u001b[0m\u001b[0mRevenue\u001b[0m \u001b[0;34m(\u001b[0m\u001b[0mMillions\u001b[0m\u001b[0;34m)\u001b[0m\u001b[0;34m\u001b[0m\u001b[0;34m\u001b[0m\u001b[0m\n\u001b[0m",
      "\u001b[0;32m/Library/Frameworks/Python.framework/Versions/3.10/lib/python3.10/site-packages/pandas/core/generic.py\u001b[0m in \u001b[0;36m?\u001b[0;34m(self, name)\u001b[0m\n\u001b[1;32m   6317\u001b[0m             \u001b[0;32mand\u001b[0m \u001b[0mname\u001b[0m \u001b[0;32mnot\u001b[0m \u001b[0;32min\u001b[0m \u001b[0mself\u001b[0m\u001b[0;34m.\u001b[0m\u001b[0m_accessors\u001b[0m\u001b[0;34m\u001b[0m\u001b[0;34m\u001b[0m\u001b[0m\n\u001b[1;32m   6318\u001b[0m             \u001b[0;32mand\u001b[0m \u001b[0mself\u001b[0m\u001b[0;34m.\u001b[0m\u001b[0m_info_axis\u001b[0m\u001b[0;34m.\u001b[0m\u001b[0m_can_hold_identifiers_and_holds_name\u001b[0m\u001b[0;34m(\u001b[0m\u001b[0mname\u001b[0m\u001b[0;34m)\u001b[0m\u001b[0;34m\u001b[0m\u001b[0;34m\u001b[0m\u001b[0m\n\u001b[1;32m   6319\u001b[0m         ):\n\u001b[1;32m   6320\u001b[0m             \u001b[0;32mreturn\u001b[0m \u001b[0mself\u001b[0m\u001b[0;34m[\u001b[0m\u001b[0mname\u001b[0m\u001b[0;34m]\u001b[0m\u001b[0;34m\u001b[0m\u001b[0;34m\u001b[0m\u001b[0m\n\u001b[0;32m-> 6321\u001b[0;31m         \u001b[0;32mreturn\u001b[0m \u001b[0mobject\u001b[0m\u001b[0;34m.\u001b[0m\u001b[0m__getattribute__\u001b[0m\u001b[0;34m(\u001b[0m\u001b[0mself\u001b[0m\u001b[0;34m,\u001b[0m \u001b[0mname\u001b[0m\u001b[0;34m)\u001b[0m\u001b[0;34m\u001b[0m\u001b[0;34m\u001b[0m\u001b[0m\n\u001b[0m",
      "\u001b[0;31mAttributeError\u001b[0m: 'DataFrame' object has no attribute 'Revenue'"
     ]
    }
   ],
   "source": [
    "df.Revenue (Millions)"
   ]
  },
  {
   "cell_type": "markdown",
   "id": "315134ed-9c88-4c98-949c-afbb850343d8",
   "metadata": {},
   "source": [
    "Si el nombre de la columna tiene espaicios o caracteres especiales, debemos usar comillas. Específicamente, utilizamos la notación\n",
    "\n",
    "```javascript\n",
    "dataframe[\"nombre de la columna\"]\n",
    "```\n",
    "\n",
    "O sea,"
   ]
  },
  {
   "cell_type": "code",
   "execution_count": 15,
   "id": "8f6abc2c-388b-465d-9784-9c79e50389f0",
   "metadata": {},
   "outputs": [
    {
     "data": {
      "text/plain": [
       "0    333.13\n",
       "1    126.46\n",
       "2    138.12\n",
       "3    270.32\n",
       "4    325.02\n",
       "Name: Revenue (Millions), dtype: float64"
      ]
     },
     "execution_count": 15,
     "metadata": {},
     "output_type": "execute_result"
    }
   ],
   "source": [
    "df['Revenue (Millions)'].head()"
   ]
  },
  {
   "cell_type": "markdown",
   "id": "60ffc63c-2398-4fbc-a9f7-05a59e3e3be7",
   "metadata": {},
   "source": [
    "---\n",
    "\n",
    "Muchas veces, lo primero que hacemos es limpiar los nombres de nuestras columnas para que sea más fácil escribir código. Cambiemos el nombre de esta columna:\n",
    "\n"
   ]
  },
  {
   "cell_type": "code",
   "execution_count": null,
   "id": "154ef632-207f-4ffd-85ab-6bb0b0e3570d",
   "metadata": {},
   "outputs": [],
   "source": [
    "df.rename(columns = {'Revenue (Millions)':'Revenue_Millions'})\n",
    "df.columns"
   ]
  },
  {
   "cell_type": "markdown",
   "id": "c7557ea7-4b27-4049-a574-b9d7a6d08465",
   "metadata": {},
   "source": [
    "**Ah caray... 😨**\n",
    "\n",
    "Renombramos la columna, pero al mostrar el DataFrame, vemos que la columna sigue teniendo el nombre pasado `\"Revenue (Millions)\"`.\n",
    "\n",
    " ![michae](./img/michaelscott.gif)\n",
    "\n",
    "El problema aquí se debe a que el método rename de Pandas no modifica el DataFrame original a menos que se especifique explícitamente. \n",
    "\n",
    "\n",
    "> Por defecto, rename devuelve un nuevo DataFrame con los cambios aplicados, pero no altera el DataFrame existente.\n",
    "\n",
    "\n",
    "En el código que escribimos, el DataFrame `df` no fue modificado directamente porque no se utilizó `inplace=True`. Por lo tanto, aunque la columna fue renombrada en el nuevo DataFrame retornado por rename, el DataFrame original df sigue teniendo el nombre de columna anterior.\n",
    "\n",
    "Para que el cambio sea reflejado en el DataFrame original, podríamos hacer dos cosas:\n",
    "\n",
    "Usar `inplace=True`:\n",
    "\n",
    "```python\n",
    "df.rename(columns = {'Revenue (Millions)':'Revenue_Millions'}, inplace=True)\n",
    "```\n",
    "\n",
    "O bien, asignar el resultado de rename de nuevo a `df`:\n",
    "\n",
    "```python\n",
    "df = df.rename(columns = {'Revenue (Millions)':'Revenue_Millions'})\n",
    "```\n",
    "\n",
    "\n",
    "---\n",
    "\n",
    "Renombremos entonces las columnas problemática:"
   ]
  },
  {
   "cell_type": "code",
   "execution_count": null,
   "id": "c3b37096-51b0-4bbc-b9e2-ea8f00240327",
   "metadata": {},
   "outputs": [],
   "source": [
    "df = df.rename(columns = {'Revenue (Millions)':'Revenue_Millions'})\n",
    "df = df.rename(columns = {'Runtime (Minutes)':'Runtime_Minutes'})\n",
    "df.columns"
   ]
  },
  {
   "cell_type": "markdown",
   "id": "7491557b-2539-4c04-bb46-a47c4700dbfe",
   "metadata": {},
   "source": [
    "## Descripción con Pandas\n",
    "\n",
    "Aunque ver las primeras o últimas filas nos dice bastante acerca del conjunto de datos, es necesario poder obtener resúmenes más amplios o más detallados.\n",
    "\n",
    "Para esto, podemos utilizar dos métodos:\n",
    "\n",
    "* `DataFrame.info()`: Imprime un resumen conciso del dataframe incluyendo tipo de dato del índice, tipo de dato de cada columna, si hay o no valores nulos, tamaño en memoria del dataframe.\n",
    "* `DataFrame.describe()`: Genera estadisticos básicos (descriptivos) del dataframe.\n",
    "\n",
    "### `df.info()`"
   ]
  },
  {
   "cell_type": "code",
   "execution_count": null,
   "id": "fb808109-f5b4-4173-bb99-efa19d26ad36",
   "metadata": {},
   "outputs": [],
   "source": [
    "df.info()"
   ]
  },
  {
   "cell_type": "markdown",
   "id": "0f959b46-a7af-49d5-ad05-199bf7295b1c",
   "metadata": {},
   "source": [
    "Este output nos informa lo siguiente:\n",
    "\n",
    "* Tnemos un dataframe que tiene 1000 renglones con 12 columnas\n",
    "* La variable **Rank** cuenta con 1000 valores enteros no nulos\n",
    "* La variable **Title** cuenta con 1000 valores objeto no nulos\n",
    "* La variable **Genre** cuenta con 1000 valores objeto no nulos\n",
    "* ⋮\n",
    "* La variable **Votes** cuenta con 1000 valores flotantes no nulos\n",
    "\n",
    "\n",
    "> Sin embargo, vemos que el número de **Revenue_Millions** y **Metascore** no es 1000\n",
    "\n",
    "Si ejecutamos `DataFrame.Series.isna()`, nos va a regresar un `DataFrame` que contenga `True` si el valor en esa posición es `na` y `False` si no lo es. Por lo tanto, para probar si existe **por lo menos** un valor `na` podemos concatenar el método `any()` a `DataFrame.Series.isna()`. O sea  `DataFrame.Series.isna().any()`\n",
    "\n",
    "Veamos esto paso por paso:\n",
    "\n",
    "\n",
    "1. `DataFrame.Series.isna()`"
   ]
  },
  {
   "cell_type": "code",
   "execution_count": null,
   "id": "9fb1cd01-a161-4e96-8fa2-220b602d705d",
   "metadata": {},
   "outputs": [],
   "source": [
    "df.Metascore.isna()"
   ]
  },
  {
   "cell_type": "markdown",
   "id": "96c6ef82-fbb4-4703-aa1c-fac1c2309718",
   "metadata": {},
   "source": [
    "Como podemos ver, hay varios valores en `True`. El problema con esto es que no podemos ver los 1000 valores al mismo tiempo porque pandas se salta la mayoría de las observaciones para no imprimir un output demasiado grande. En este caso, Juyter y Pandas nos mostran las observaciones 0 a 4 y 995 a 999. Entonces tenemos muchos valores en medio que no estamos viendo. Es mejor entonces comprobar si existen o no `na` utilizando  `DataFrame.Series.isna().any()`\n"
   ]
  },
  {
   "cell_type": "code",
   "execution_count": null,
   "id": "b7181814-a762-4396-b28b-0ea93f3b2ecb",
   "metadata": {},
   "outputs": [],
   "source": [
    "df.Revenue_Millions.isna().any()"
   ]
  },
  {
   "cell_type": "markdown",
   "id": "10523d33-c62f-4ae9-ab85-0e2d4077ccd7",
   "metadata": {},
   "source": [
    "Hagamos lo mismo para `Metascore`"
   ]
  },
  {
   "cell_type": "code",
   "execution_count": null,
   "id": "77b8b8d5-3e51-4824-bbd6-5cd278acc6f6",
   "metadata": {},
   "outputs": [],
   "source": [
    "df.Metascore.isna().any()"
   ]
  },
  {
   "cell_type": "markdown",
   "id": "7eb54067-75e1-456d-b1a9-d53d0e06021b",
   "metadata": {},
   "source": [
    "Ok, entonces tenemos valores `na` tanto en `Metascore` como en `Revenue_Millions`.\n",
    "\n",
    "\n",
    "\n",
    "> ¿Pero cuántos?"
   ]
  },
  {
   "cell_type": "code",
   "execution_count": null,
   "id": "ee5cfe4e-488d-4e4a-9f72-52b5045947e2",
   "metadata": {},
   "outputs": [],
   "source": [
    "print(\"Número total de NA en Metascore:\", df.Metascore.isna().sum())\n",
    "print(\"Número total de NA en Revenue Millions:\", df.Revenue_Millions.isna().sum())"
   ]
  },
  {
   "cell_type": "markdown",
   "id": "74f62d20-abc5-4986-8e3e-480ae95a7ad4",
   "metadata": {},
   "source": [
    "Es un gran inconveniente tener valores NA ya que éstos pueden estropear cálculos, visualizaciones, etc... Quitémoslos.\n",
    "\n",
    "Dato que tener valores NA es un escenario bastante común y bastante indeseable, pandas facilita la eliminación de estos valores con el método `dropna()`"
   ]
  },
  {
   "cell_type": "code",
   "execution_count": null,
   "id": "a9bae9e0-392f-4141-8d30-d7f0d8bd2683",
   "metadata": {},
   "outputs": [],
   "source": [
    "df = df.dropna()"
   ]
  },
  {
   "cell_type": "markdown",
   "id": "91fb2260-a4e9-4677-a7eb-d0cc2fb425ed",
   "metadata": {},
   "source": [
    "> Nota cómo aquí también volvimos a asignar a `df`\n",
    "\n",
    "\n",
    "\n",
    "Veamos la info nuevamente"
   ]
  },
  {
   "cell_type": "code",
   "execution_count": null,
   "id": "14b421db-8140-4307-b404-5500fde66eda",
   "metadata": {},
   "outputs": [],
   "source": [
    "df.info()"
   ]
  },
  {
   "cell_type": "markdown",
   "id": "6e260d69-282b-4c15-9426-b96d0ad7b49e",
   "metadata": {},
   "source": [
    "**Ya no tenemos ningún valor en nulo.**\n",
    "\n",
    "\n",
    "### `df.describe()`"
   ]
  },
  {
   "cell_type": "code",
   "execution_count": null,
   "id": "abb7b24f-4be9-4dc2-b4a1-3d4d0789092c",
   "metadata": {},
   "outputs": [],
   "source": [
    "df.describe()"
   ]
  },
  {
   "cell_type": "markdown",
   "id": "d3d80330-ad2d-40e8-b989-223fadee2a9b",
   "metadata": {},
   "source": [
    "Vemos claramente que la media (mean) del Rating es de 6.81.\n",
    "\n",
    "Calculemos esto por nuestra cuenta:"
   ]
  },
  {
   "cell_type": "code",
   "execution_count": null,
   "id": "72bcf04c-382e-41b9-aabf-a013e8058742",
   "metadata": {},
   "outputs": [],
   "source": [
    "ratings = df.Rating\n",
    "type(ratings)"
   ]
  },
  {
   "cell_type": "markdown",
   "id": "434365b7-502d-4eaf-8ef6-1ef0b7b1efea",
   "metadata": {},
   "source": [
    "**¡Podemos usar Numpy!**"
   ]
  },
  {
   "cell_type": "code",
   "execution_count": null,
   "id": "dbb389ec-eaf8-4ec7-a17b-d869604c0a03",
   "metadata": {},
   "outputs": [],
   "source": [
    "import numpy as np"
   ]
  },
  {
   "cell_type": "code",
   "execution_count": null,
   "id": "254c3423-4060-4b7e-a5c0-28c632a8f0ec",
   "metadata": {},
   "outputs": [],
   "source": [
    "np.mean(ratings)"
   ]
  },
  {
   "cell_type": "markdown",
   "id": "9a1f9911-d041-43d6-aa07-4f995a46f3bf",
   "metadata": {},
   "source": [
    "O bien, podemos usar pandas también"
   ]
  },
  {
   "cell_type": "code",
   "execution_count": null,
   "id": "67fe4bf9-dfcc-4b3a-8e45-04eb0d70c360",
   "metadata": {},
   "outputs": [],
   "source": [
    "ratings.mean()"
   ]
  },
  {
   "cell_type": "markdown",
   "id": "15033aff-4f47-4260-a9c6-585ce8d9132c",
   "metadata": {},
   "source": [
    "O también"
   ]
  },
  {
   "cell_type": "code",
   "execution_count": null,
   "id": "a5051722-6d15-4406-8006-8f3f32b09710",
   "metadata": {},
   "outputs": [],
   "source": [
    "df.Rating.mean()"
   ]
  },
  {
   "cell_type": "markdown",
   "id": "14b70f9d-3c7a-4bbe-b0e5-fcda5432a2b9",
   "metadata": {},
   "source": [
    "## Valores únicos\n",
    "\n",
    "> Quiero ver cuáles son los valores **unicos** de la variable `Rating`"
   ]
  },
  {
   "cell_type": "code",
   "execution_count": null,
   "id": "085321f4-a618-4cfd-a545-29eeab33df8c",
   "metadata": {},
   "outputs": [],
   "source": [
    "df['Rating'].unique()"
   ]
  },
  {
   "cell_type": "markdown",
   "id": "e952767e-9287-4962-86af-843fb0808b1e",
   "metadata": {},
   "source": [
    "Ordenémoslos usando NumPy"
   ]
  },
  {
   "cell_type": "code",
   "execution_count": null,
   "id": "790703b0-8821-42b7-9bcc-955730e4b6ec",
   "metadata": {},
   "outputs": [],
   "source": [
    "np.sort(df['Rating'].unique())"
   ]
  },
  {
   "cell_type": "markdown",
   "id": "eee0db2f-74f1-4028-9a43-533afd648e85",
   "metadata": {},
   "source": [
    "---\n",
    "\n",
    "## Filtrado\n",
    "\n",
    "Muchas veces vamos a querer ver datos con base en una condición\n",
    "\n",
    "\n",
    "\n",
    "> Así como si aplicáramos filtros en un Excel"
   ]
  },
  {
   "cell_type": "code",
   "execution_count": null,
   "id": "bca37e9e-09bf-4eee-aee7-bd3c0adca2ea",
   "metadata": {},
   "outputs": [],
   "source": [
    "df[df.Rating > 8].head(3)"
   ]
  },
  {
   "cell_type": "markdown",
   "id": "28f5471f-d573-47db-8457-e76241704a6f",
   "metadata": {},
   "source": [
    "Aunque no lo parezca, esto es exactamente lo mismo que hicimos en NumPy (indexación lógica o booleana). \n",
    "\n",
    "* `df.Rating > 8`\n",
    "  * esta expresión es una condición booleana que verifica, para cada fila del DataFrame `df`, si el valor en la columna Rating es mayor que 8.\n",
    "  * Como resultado, se genera una Serie de valores booleanos (True o False), donde cada valor corresponde a si la condición es verdadera o falsa para cada fila.\n",
    "* `df[df.Rating > 8]`\n",
    "  * Aquí, el DataFrame `df` se está filtrando utilizando la condición booleana generada anteriormente.\n",
    "  * El DataFrame resultante contendrá solo las filas donde la condición `Rating > 8` es verdadera.\n",
    "\n",
    "\n",
    "> Exactamente como en NumPy\n",
    "\n",
    "\n",
    "---\n",
    "\n",
    "## `value_counts()`\n",
    "\n",
    "Conocer la frecuencia absoluta de nuestras variables es de gran utilidad porque nos permite visualizar la distribución de nuestros datos. El método value_counts sirve exactamente para esto:"
   ]
  },
  {
   "cell_type": "code",
   "execution_count": null,
   "id": "5064dd5d-9ed8-4e4f-845d-3b0f1b93887c",
   "metadata": {},
   "outputs": [],
   "source": [
    "df.Rating.value_counts()"
   ]
  },
  {
   "cell_type": "markdown",
   "id": "4e5adbd6-d31a-42df-83f7-0f60d4b36223",
   "metadata": {},
   "source": [
    "Este método nos returna un objeto de tipo Series en donde el índice (index) es la etiqueta de la variable en cuestión (Rating) y el valor es la frecuencia absoluta de la misma.\n",
    "\n",
    "Es decir, el rating 7.0 aparece 43 veces; 6.7 aparece 42 veces; 7.1 aparece 40 veces, etc.\n",
    "\n",
    "Juguemos un poco con esto. Creemos una variable para almacenar este Series:\n"
   ]
  },
  {
   "cell_type": "code",
   "execution_count": null,
   "id": "f063c1e5-b6d5-4d46-96eb-8e903ef5a5cd",
   "metadata": {},
   "outputs": [],
   "source": [
    "counts = df.Rating.value_counts()"
   ]
  },
  {
   "cell_type": "markdown",
   "id": "b1174ab0-455c-4ac9-80eb-e8ba16d52b33",
   "metadata": {},
   "source": [
    "Veamos el tipo"
   ]
  },
  {
   "cell_type": "code",
   "execution_count": null,
   "id": "22dfa2f6-3df8-4855-b795-07b33ed3f05d",
   "metadata": {},
   "outputs": [],
   "source": [
    "type(counts)"
   ]
  },
  {
   "cell_type": "markdown",
   "id": "f64a736e-6933-444e-a2e9-0c0b409edba4",
   "metadata": {},
   "source": [
    "Y veamos cómo todo Series tiene dos propiedes: `index` y `values`"
   ]
  },
  {
   "cell_type": "code",
   "execution_count": null,
   "id": "b5006c13-922a-41f7-bb7e-e58828b7af6c",
   "metadata": {},
   "outputs": [],
   "source": [
    "counts.index"
   ]
  },
  {
   "cell_type": "code",
   "execution_count": null,
   "id": "95250ef1-5f18-41e4-8915-52e99ddd00b9",
   "metadata": {},
   "outputs": [],
   "source": [
    "counts.values"
   ]
  },
  {
   "cell_type": "markdown",
   "id": "4c26ccc5-cb52-4085-b81c-7137ebb0f868",
   "metadata": {},
   "source": [
    "Creemos un nuevo dataframe haciendo uso de estas dos propiedades `counts`"
   ]
  },
  {
   "cell_type": "code",
   "execution_count": null,
   "id": "3ae67ee7-a065-42c1-9090-04bab1f5c122",
   "metadata": {},
   "outputs": [],
   "source": [
    "counts_df = pd.DataFrame({'rating' : counts.index, 'frequency' : counts.values})\n",
    "counts_df.head(3)"
   ]
  },
  {
   "cell_type": "markdown",
   "id": "cc8ce137-95c3-4971-af51-04a6ead9c215",
   "metadata": {},
   "source": [
    "Genial, ahora asegurémosnos que estén ordenados de forma ascendente por frecuencia:"
   ]
  },
  {
   "cell_type": "code",
   "execution_count": null,
   "id": "2baa4739-14fc-46f8-b04c-30ed0343ecd0",
   "metadata": {},
   "outputs": [],
   "source": [
    "counts_df = counts_df.sort_values(['rating'])\n",
    "counts_df.head(3)"
   ]
  },
  {
   "cell_type": "markdown",
   "id": "e53d57ff-08d7-4405-b61a-7b45e747f524",
   "metadata": {},
   "source": [
    "Y ahora con esto, pasemos a crear una gráfica.\n",
    "\n",
    "## Visualizaciones y gráficas\n",
    "\n",
    "Necesitamos un paquete adicional para poder crear gráficas: `matplotlib`"
   ]
  },
  {
   "cell_type": "code",
   "execution_count": null,
   "id": "f9ca7b03-42ef-4d98-b0ad-b26283f7647d",
   "metadata": {},
   "outputs": [],
   "source": [
    "import matplotlib.pyplot as plt"
   ]
  },
  {
   "cell_type": "markdown",
   "id": "5cdf2b51-f58f-47ce-b5cf-7eab83d5766f",
   "metadata": {},
   "source": [
    "Matplotlib es la librería más utilizada para crear gráficas y visualizaciones con Python. Muchas veces se utiliza en conjunto con otro paquete llamado Seaborn, pero éste lo veremos más adelante.\n",
    "\n",
    "\n",
    "> La sintaxis y el uso de matplotlib no es lo más trivial del mundo, sin embargo, siempre recuerda que ChatGPT es experto en esto y más.\n",
    "\n",
    "Crearemos nuestra primera gráfica utilizando el dataframe `counts_df` que acabamos de crear:"
   ]
  },
  {
   "cell_type": "code",
   "execution_count": null,
   "id": "72cb2414-bf08-45f9-ac47-cffe801dce37",
   "metadata": {},
   "outputs": [],
   "source": [
    "plt.bar(counts_df.rating, counts_df.frequency)"
   ]
  },
  {
   "cell_type": "markdown",
   "id": "1ece6679-f5a1-4db0-8fe0-91a28edc3bf6",
   "metadata": {},
   "source": [
    "Lamentablemente nos hacen falta elementos visuales necesarios para comprender la gráfica: títulos, leyendas, etc.\n",
    "\n",
    "> Pero todo esto lo aprenderemos más adelante\n",
    "\n",
    "---\n",
    "\n",
    "Veamos ahora la distribución de la variable Rating con un histograma. El argumento 10 indica que queremos 10 barras (cubetas o bins) en el histograma."
   ]
  },
  {
   "cell_type": "code",
   "execution_count": null,
   "id": "6581b293-a614-4555-b907-db83a92d4eec",
   "metadata": {},
   "outputs": [],
   "source": [
    "plt.hist(df.Rating,10)"
   ]
  },
  {
   "cell_type": "markdown",
   "id": "5c4b2fc5-0110-4390-9d03-09994a2fae61",
   "metadata": {},
   "source": [
    "Y ahora veamos Metscore con 20 cubetas"
   ]
  },
  {
   "cell_type": "code",
   "execution_count": null,
   "id": "a79c82b2-1e26-498f-b4ec-1b9c8aeca5a9",
   "metadata": {},
   "outputs": [],
   "source": [
    "plt.hist(df.Metascore,20)"
   ]
  },
  {
   "cell_type": "markdown",
   "id": "de8be5e6-d5bd-4318-b7cf-a1df317acd48",
   "metadata": {},
   "source": [
    "## Correlación\n",
    "\n",
    "Otra tarea útil y necesaria es encontrar variables que estén correlacionadas entre sí. Para esto, construiremos una matriz de correlación, la cual nos pintará un mapa de calor con los valores de correlación.\n",
    "\n",
    "Primero crearemos un dataframe que contendrá únicamente las variables numéricas, y a partir de este, crearemos la matriz de correlación utilizando el método `corr()`\n",
    "\n",
    "Una forma fácil de crear un DataFrame a partir de otro es de la siguiente manera:"
   ]
  },
  {
   "cell_type": "code",
   "execution_count": null,
   "id": "4b287a23-4b62-419b-96f0-d72d3d8379cf",
   "metadata": {},
   "outputs": [],
   "source": [
    "df[['Rank', 'Title']]"
   ]
  },
  {
   "cell_type": "markdown",
   "id": "de9b2a5d-0cb9-4456-8cef-c29d0a0cb4c8",
   "metadata": {},
   "source": [
    "Esto nos dará un DataFrame subconjunto de `df` que contiene únicamente las columnas `Rank` y `Title`"
   ]
  },
  {
   "cell_type": "markdown",
   "id": "9ec55583-274e-451b-ad0b-9c5822765758",
   "metadata": {},
   "source": [
    "Utilizando esta misma sintaxis, creemos `df_corr`"
   ]
  },
  {
   "cell_type": "code",
   "execution_count": null,
   "id": "9bad5e20-14e6-43cc-a33e-5e749f300508",
   "metadata": {},
   "outputs": [],
   "source": [
    "df_corr = df[['Year', 'Runtime_Minutes', 'Rating', 'Votes', 'Revenue_Millions', 'Metascore']].corr()\n",
    "df_corr"
   ]
  },
  {
   "cell_type": "markdown",
   "id": "e2eb0511-3b5a-4b94-8ae6-bb01856f3cd8",
   "metadata": {},
   "source": [
    "El método `.corr()` de Pandas se utiliza para calcular la matriz de correlación entre las columnas de un DataFrame. La correlación mide la relación entre dos variables, indicando qué tan fuerte o débil es la relación entre ellas. El valor resultante oscila entre -1 y 1:\n",
    "\n",
    "* 1 indica una correlación positiva perfecta (cuando una variable aumenta, la otra también lo hace de manera proporcional).\n",
    "* -1 indica una correlación negativa perfecta (cuando una variable aumenta, la otra disminuye de manera proporcional).\n",
    "* 0 indica que no hay correlación lineal entre las variables. Este método es útil para identificar relaciones entre diferentes variables en un conjunto de datos, lo que puede ser crucial para el análisis exploratorio de datos y para seleccionar características en modelos predictivos.\n",
    "\n",
    "\n",
    "---\n",
    "\n",
    "Con este nuevo dataframe, podemos crear nuestro mapa de calor muy fácilmente:"
   ]
  },
  {
   "cell_type": "code",
   "execution_count": null,
   "id": "5bb72110-1e7b-4a79-8e6e-f84d16ab71b5",
   "metadata": {},
   "outputs": [],
   "source": [
    "plt.matshow(df_corr)\n",
    "plt.show()"
   ]
  },
  {
   "cell_type": "markdown",
   "id": "2d8265e1-5b19-4c57-a37e-da61fcb56773",
   "metadata": {},
   "source": [
    "¡Bien! Pero podemos mejorar un poco esta visualización. Para empezar, estaría bien saber qué significa cada color. Adicionalmente, en lugar de poner los índices numéricos de las variables, sería mejor poner los nombres de las variables.\n"
   ]
  },
  {
   "cell_type": "code",
   "execution_count": null,
   "id": "0dfa1c1b-13c9-43a6-b5ef-5424bb187301",
   "metadata": {},
   "outputs": [],
   "source": [
    "# Cambiar el tamaño de la figura\n",
    "f = plt.figure(figsize=(10, 7))\n",
    "\n",
    "# Mostrar la matriz de correlación\n",
    "plt.matshow(df_corr, fignum=f.number)\n",
    "\n",
    "# Añadir las etiquetas de las variables\n",
    "plt.xticks(range(df_corr.shape[1]), df_corr.columns, fontsize=14, rotation=90)\n",
    "plt.yticks(range(df_corr.shape[1]), df_corr.columns, fontsize=14)\n",
    "\n",
    "# Añadir una leyenda de color\n",
    "cb = plt.colorbar()\n",
    "cb.ax.tick_params(labelsize=14)\n",
    "\n",
    "# Mostrar el gráfico\n",
    "plt.show()"
   ]
  },
  {
   "cell_type": "markdown",
   "id": "1a6d587b-1aa0-4358-a328-b789c2e7d37e",
   "metadata": {},
   "source": [
    "# Seaborn\n",
    "\n",
    "Matplotlib es una librería muy flexible y nos permite hacer muchas cosas. Sin embargo, su uso, y sobre todo su personalización, puede ser un poco complicado. Por suerte, existe una librería que se construyó sobre `matplotlib` y que nos permite hacer visualizaciones más atractivas y con menos código. Esta librería se llama `seaborn`.\n",
    "\n",
    "Seaborn ya viene instalado en este entorno virtual, pero si no lo tuvieran instalado, pueden hacerlo con el siguiente comando:\n",
    "\n",
    "```bash\n",
    "pip install seaborn\n",
    "```\n",
    "\n",
    "Y ahora importamos seaborn"
   ]
  },
  {
   "cell_type": "code",
   "execution_count": null,
   "id": "f72df7a8-506a-43c1-a3c1-8b0aa88a88be",
   "metadata": {},
   "outputs": [],
   "source": [
    "import seaborn as sns"
   ]
  },
  {
   "cell_type": "markdown",
   "id": "adf9d477-6247-4c0d-8640-1459cb2ac9f0",
   "metadata": {},
   "source": [
    "> Nota que importamos seaborn como `sns`. Esto es una convención que se sigue en la comunidad de Python y que nos permite escribir menos código.\n",
    "\n",
    "---\n",
    "\n",
    "Ya que tenemos seaborn, vamos a construir nuevamente la matriz de correlación, pero ahora con seaborn. Para esto, utilizaremos el método `heatmap()` de seaborn. Le mandamos dos argumentos:\n",
    "\n",
    "* `data`: el dataframe que contiene las variables numéricas\n",
    "* `annot`: si queremos que se muestren los valores de correlación en cada celda"
   ]
  },
  {
   "cell_type": "code",
   "execution_count": null,
   "id": "f6993527-9df2-4ba9-9451-fc9c4dd7f85e",
   "metadata": {},
   "outputs": [],
   "source": [
    "sns.heatmap(df_corr, annot=True)"
   ]
  },
  {
   "cell_type": "markdown",
   "id": "f30e5b7a-a273-4ac0-99ba-a3fe7c25b215",
   "metadata": {},
   "source": [
    "Agreguemos un título a esta gráfica:"
   ]
  },
  {
   "cell_type": "code",
   "execution_count": null,
   "id": "dbbfad83-b169-4416-a216-f4a808967729",
   "metadata": {},
   "outputs": [],
   "source": [
    "sns.heatmap(df_corr, annot=True)\n",
    "plt.title(\"Matriz de correlación de películas de IMDB\")\n",
    "plt.show()"
   ]
  },
  {
   "cell_type": "markdown",
   "id": "f14df38e-d949-456f-b9c6-a2181f3c811a",
   "metadata": {},
   "source": [
    "> Sigamos jugando con Seaborn\n",
    "\n",
    "\n",
    "Cambiemos la paleta de colores a `coolwarm` utilizando el argumento `cmap`"
   ]
  },
  {
   "cell_type": "code",
   "execution_count": null,
   "id": "71d35cec-24c0-44a1-aa88-0addf2a44c14",
   "metadata": {},
   "outputs": [],
   "source": [
    "sns.heatmap(df_corr, annot=True, cmap='coolwarm')\n",
    "plt.title(\"Matriz de correlación de películas de IMDB\")\n",
    "plt.show()"
   ]
  },
  {
   "cell_type": "markdown",
   "id": "c398d29c-7bae-4193-a116-e7357bbfe681",
   "metadata": {},
   "source": [
    "---\n",
    "\n",
    "Ahora cambiemos la paleta de colores a `RdYlGn` utilizando el argumento `cmap`"
   ]
  },
  {
   "cell_type": "code",
   "execution_count": null,
   "id": "f4581bf8-f222-45e7-a300-d4a014b5989e",
   "metadata": {},
   "outputs": [],
   "source": [
    "sns.heatmap(df_corr, annot=True, cmap='RdYlGn')\n",
    "plt.title(\"Matriz de correlación de películas de IMDB\")\n",
    "plt.show()"
   ]
  }
 ],
 "metadata": {
  "kernelspec": {
   "display_name": "Python 3 (ipykernel)",
   "language": "python",
   "name": "python3"
  },
  "language_info": {
   "codemirror_mode": {
    "name": "ipython",
    "version": 3
   },
   "file_extension": ".py",
   "mimetype": "text/x-python",
   "name": "python",
   "nbconvert_exporter": "python",
   "pygments_lexer": "ipython3",
   "version": "3.10.11"
  }
 },
 "nbformat": 4,
 "nbformat_minor": 5
}
